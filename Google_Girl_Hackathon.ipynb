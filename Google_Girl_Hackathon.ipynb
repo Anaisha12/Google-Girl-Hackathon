{
  "cells": [
    {
      "cell_type": "markdown",
      "metadata": {
        "id": "view-in-github",
        "colab_type": "text"
      },
      "source": [
        "<a href=\"https://colab.research.google.com/github/Anaisha12/Google-Girl-Hackathon/blob/main/Google_Girl_Hackathon.ipynb\" target=\"_parent\"><img src=\"https://colab.research.google.com/assets/colab-badge.svg\" alt=\"Open In Colab\"/></a>"
      ]
    },
    {
      "cell_type": "code",
      "execution_count": 1,
      "id": "74ab3d32",
      "metadata": {
        "id": "74ab3d32"
      },
      "outputs": [],
      "source": [
        "import pandas as pd\n",
        "\n",
        "# Read the trace table from Excel into a DataFrame\n",
        "trace_table = pd.read_excel('data.xlsx')\n",
        "\n",
        "def calculate_latency_and_bandwidth(trace_table,write_latency):\n",
        "    latency = 0 #overall latency for all the reads and writes in the trace table\n",
        "    latency_writes=0 #overall latency for all the writes in the trace table\n",
        "    latency_reads=0 #overall latency for all the reads in the trace table\n",
        "    num_transactions = 0 #total number of reads and writes\n",
        "    num_reads=0 #total number of reads\n",
        "    num_writes=0 #total number of writes\n",
        "    read_dict={} #dictionary to store timestamp for starting each read instruction\n",
        "    data_dict={} #dictionary to store the timestamp for the completion of each read instruction\n",
        "    for index, row in trace_table.iterrows():\n",
        "        if row['TxnType'].split()[0] == 'Rd':\n",
        "            read_dict[row['TxnType'].split()[1]]=row['Timestamp']\n",
        "            num_reads+=1\n",
        "            num_transactions+=1\n",
        "        elif row['TxnType'].split()[0] == 'Data':\n",
        "            data_dict[row['TxnType'].split()[1]]=row['Timestamp']\n",
        "        elif row['TxnType'].split()[0] == 'Wr':\n",
        "            latency_writes+=write_latency\n",
        "            latency+=write_latency\n",
        "            num_writes+=1\n",
        "            num_transactions+=1\n",
        "    for i in read_dict:\n",
        "        latency_reads+=data_dict[i]-read_dict[i] #latency for each read instruction = starting time-completion time\n",
        "        latency+=data_dict[i]-read_dict[i]\n",
        "\n",
        "    avg_latency_reads=latency_reads/num_reads\n",
        "    avg_latency_writes=latency_writes/num_writes\n",
        "    avg_latency=latency/num_transactions\n",
        "    bandwidth=(num_transactions*32)/latency\n",
        "    print(\"Average latency for read operation:\",avg_latency_reads,'s')\n",
        "    print(\"Average latency for write operation:\",avg_latency_writes,'s')\n",
        "    print(\"Averge latency for any transaction:\",avg_latency,'s')\n",
        "    print(\"Bandwidth:\",bandwidth,\"B/s\")"
      ]
    },
    {
      "cell_type": "code",
      "execution_count": 2,
      "id": "772f8dbc",
      "metadata": {
        "colab": {
          "base_uri": "https://localhost:8080/"
        },
        "id": "772f8dbc",
        "outputId": "f4878da9-e4d9-4b0a-ab42-360a7a115f39"
      },
      "outputs": [
        {
          "output_type": "stream",
          "name": "stdout",
          "text": [
            "Average latency for read operation: 17.0 s\n",
            "Average latency for write operation: 10.0 s\n",
            "Averge latency for any transaction: 15.147058823529411 s\n",
            "Bandwidth: 2.112621359223301 B/s\n"
          ]
        }
      ],
      "source": [
        "calculate_latency_and_bandwidth(trace_table,10)"
      ]
    }
  ],
  "metadata": {
    "kernelspec": {
      "display_name": "Python 3 (ipykernel)",
      "language": "python",
      "name": "python3"
    },
    "language_info": {
      "codemirror_mode": {
        "name": "ipython",
        "version": 3
      },
      "file_extension": ".py",
      "mimetype": "text/x-python",
      "name": "python",
      "nbconvert_exporter": "python",
      "pygments_lexer": "ipython3",
      "version": "3.11.5"
    },
    "colab": {
      "provenance": [],
      "include_colab_link": true
    }
  },
  "nbformat": 4,
  "nbformat_minor": 5
}