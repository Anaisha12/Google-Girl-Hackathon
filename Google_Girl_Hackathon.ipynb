{
 "cells": [
  {
   "cell_type": "code",
   "execution_count": 80,
   "id": "ee5f5bab",
   "metadata": {},
   "outputs": [],
   "source": [
    "import pandas as pd\n",
    "\n",
    "def calculate_latency_and_bandwidth(trace_table, write_latency):\n",
    "    latency = 0 #overall latency for all the reads and writes in the trace table\n",
    "    latency_writes=0 #overall latency for all the writes in the trace table\n",
    "    latency_reads=0 #overall latency for all the reads in the trace table\n",
    "    num_transactions = 0 #total number of reads and writes\n",
    "    num_reads=0 #total number of reads\n",
    "    num_writes=0 #total number of writes\n",
    "\n",
    "    last_read_timestamp = {} # Dictionary to store the timestamp for the last read instruction for each address\n",
    "\n",
    "    for index, row in trace_table.iterrows():\n",
    "        txn, addr = row['TxnType'].split()\n",
    "\n",
    "        if txn == 'Rd':\n",
    "            last_read_timestamp[addr] = row['Timestamp']\n",
    "            num_reads += 1\n",
    "        elif txn == 'Data':\n",
    "            if addr in last_read_timestamp:\n",
    "                latency_reads += row['Timestamp'] - last_read_timestamp[addr]\n",
    "                del last_read_timestamp[addr]  # Remove the entry as it's no longer needed\n",
    "        elif txn == 'Wr':\n",
    "            latency_writes += write_latency\n",
    "            num_writes += 1\n",
    "\n",
    " \n",
    "    avg_latency_reads = latency_reads / num_reads if num_reads else 0\n",
    "    avg_latency_writes = latency_writes / num_writes if num_writes else 0\n",
    "\n",
    "    num_transactions = num_reads + num_writes\n",
    "    latency = latency_reads + latency_writes\n",
    "    avg_latency = latency / num_transactions if num_transactions else 0\n",
    "\n",
    "    bandwidth = (num_transactions*32) / latency\n",
    "\n",
    "    print(\"Average latency for reads:\", avg_latency_reads, \"s\")\n",
    "    print(\"Average latency for writes:\", avg_latency_writes, \"s\")\n",
    "    print(\"Average latency for any transaction:\", avg_latency, \"s\")\n",
    "    print(\"Bandwidth:\", bandwidth, \"B/s\")"
   ]
  },
  {
   "cell_type": "code",
   "execution_count": 81,
   "id": "d344a2d2",
   "metadata": {},
   "outputs": [
    {
     "name": "stdout",
     "output_type": "stream",
     "text": [
      "Average latency for reads: 17.0 s\n",
      "Average latency for writes: 10.0 s\n",
      "Average latency for any transaction: 15.147058823529411 s\n",
      "Bandwidth: 2.112621359223301 B/s\n"
     ]
    }
   ],
   "source": [
    "trace_table = pd.read_excel('data.xlsx')\n",
    "\n",
    "# Assuming a write latency of 10s for each write operation\n",
    "calculate_latency_and_bandwidth(trace_table, 10)"
   ]
  }
 ],
 "metadata": {
  "kernelspec": {
   "display_name": "Python 3 (ipykernel)",
   "language": "python",
   "name": "python3"
  },
  "language_info": {
   "codemirror_mode": {
    "name": "ipython",
    "version": 3
   },
   "file_extension": ".py",
   "mimetype": "text/x-python",
   "name": "python",
   "nbconvert_exporter": "python",
   "pygments_lexer": "ipython3",
   "version": "3.11.5"
  }
 },
 "nbformat": 4,
 "nbformat_minor": 5
}
